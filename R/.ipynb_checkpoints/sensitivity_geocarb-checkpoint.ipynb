{
 "cells": [
  {
   "cell_type": "markdown",
   "metadata": {},
   "source": [
    "# Sensitivity analysis\n",
    "\n",
    "Tony Wong (<anthony.e.wong@colorado.edu>)\n",
    "\n",
    "## Step 1:  Sobol'\n",
    "\n",
    "(not covered here, leads to the `.rds` file as below)\n",
    "\n",
    "## Step 2:  Sobol' subsample correlations\n",
    "\n",
    "We will create sub-samples of Sobol' sensitivity runs, $X_1$, $X_2$ and $X_3$, chosen as follows:\n",
    "* $X_1$ is sensitivity measure where we vary all parameters\n",
    "* $X_2$ is sensitivity measure where we only vary the $T$ most sensitive parameters, and hold the other $56-T$ parameters fixed.\n",
    "* $X_3$ is sensitivity measure where we keep the $T$ most sensitive parameters fixed, and vary the $56-T$ least sensitive parameters.\n",
    "\n",
    "So, as $T$ increases, we expect to see:\n",
    "* the correlation between $X_1$ and $X_2$ go to $1$, and\n",
    "* the correlation between $X_1$ and $X_3$ go to $0$.\n",
    "---"
   ]
  },
  {
   "cell_type": "markdown",
   "metadata": {},
   "source": [
    "Navigate to Tony's local directory and read previous Sobol' sensitivity results, and load library(ies)"
   ]
  },
  {
   "cell_type": "code",
   "execution_count": 1,
   "metadata": {
    "collapsed": true
   },
   "outputs": [],
   "source": [
    "library(repr)\n",
    "#setwd('/home/scrim/axw322/codes/GEOCARB/R')\n",
    "setwd('/Users/tony/codes/Royer2007-Climate-Sensitivity/R')\n",
    "s.out <- readRDS('../output/sobol_alpha0_25Mar2018.rds')"
   ]
  },
  {
   "cell_type": "markdown",
   "metadata": {},
   "source": [
    "In practice, we will do this experiment many times and average the results.  For now, we only do it once (`n_iter`).\n",
    "\n",
    "`n_sample` below gives the size of each sample, $X_i$ ($i=1,2,3$)"
   ]
  },
  {
   "cell_type": "code",
   "execution_count": 2,
   "metadata": {
    "collapsed": true
   },
   "outputs": [],
   "source": [
    "n_iter <- 1\n",
    "n_sample <- 5000"
   ]
  },
  {
   "cell_type": "markdown",
   "metadata": {},
   "source": [
    "Get the default parameter values"
   ]
  },
  {
   "cell_type": "code",
   "execution_count": 3,
   "metadata": {
    "collapsed": true
   },
   "outputs": [],
   "source": [
    "filename.calibinput <- '../input_data/GEOCARB_input_summaries_calib.csv'\n",
    "source('GEOCARB-2014_parameterSetup.R')"
   ]
  },
  {
   "cell_type": "markdown",
   "metadata": {},
   "source": [
    "Source the physical model"
   ]
  },
  {
   "cell_type": "code",
   "execution_count": 4,
   "metadata": {
    "collapsed": true
   },
   "outputs": [],
   "source": [
    "source('model_forMCMC.R')\n",
    "source('run_geocarbF.R')"
   ]
  },
  {
   "cell_type": "markdown",
   "metadata": {},
   "source": [
    "Get the reference simulation.  Sensitivity is measured as L1 norm against this."
   ]
  },
  {
   "cell_type": "code",
   "execution_count": 5,
   "metadata": {
    "collapsed": true
   },
   "outputs": [],
   "source": [
    "model_ref <- model_forMCMC(par_calib=par_calib0,\n",
    "              par_fixed=par_fixed0,\n",
    "              parnames_calib=parnames_calib,\n",
    "              parnames_fixed=parnames_fixed,\n",
    "              age=age,\n",
    "              ageN=ageN,\n",
    "              ind_const_calib=ind_const_calib,\n",
    "              ind_time_calib=ind_time_calib,\n",
    "              ind_const_fixed=ind_const_fixed,\n",
    "              ind_time_fixed=ind_time_fixed,\n",
    "              ind_expected_time=ind_expected_time,\n",
    "              ind_expected_const=ind_expected_const,\n",
    "              iteration_threshold=iteration_threshold)[,'co2']"
   ]
  },
  {
   "cell_type": "markdown",
   "metadata": {},
   "source": [
    "`T_test` gives the number of parameters to vary, $T$.  This ranges from 2 to 55 because $T=1$ would just be a one-at-a-time sensitivity test, and because $T=56$ would be varying all of the parameters.  And the whole point is to leave some of them out.\n",
    "\n",
    "Here, I am going by 5s for speed, but we can of course check every value of $T$."
   ]
  },
  {
   "cell_type": "code",
   "execution_count": 29,
   "metadata": {
    "collapsed": true
   },
   "outputs": [],
   "source": [
    "#T_test <- seq(from=2, to=55, by=1)\n",
    "#T_test <- c(2, 5, 10, 15, 20, 25, 30, 35, 40, 45, 50, 55)\n",
    "T_test <- seq(from=20, to=27)\n",
    "nT <- length(T_test)"
   ]
  },
  {
   "cell_type": "markdown",
   "metadata": {},
   "source": [
    "Initialize matrices to hold the correlations between $X_1$, $X_2$ and $X_3$."
   ]
  },
  {
   "cell_type": "code",
   "execution_count": 30,
   "metadata": {
    "collapsed": true
   },
   "outputs": [],
   "source": [
    "corr_s12 <- mat.or.vec(n_iter, nT)\n",
    "corr_s13 <- mat.or.vec(n_iter, nT)\n",
    "\n",
    "iter <- 1  # this would be a `for` loop in the actual calculation\n",
    "\n",
    "# x1: as-is\n",
    "# sample a bunch of parameters\n",
    "x1 <- s.out$X1[sample(1:nrow(s.out$X1), n_sample, replace=FALSE),]\n",
    "\n",
    "model1 <- sapply(1:n_sample, function(ss) {\n",
    "    model_forMCMC(par_calib=x1[ss,],\n",
    "                  par_fixed=par_fixed0,\n",
    "                  parnames_calib=parnames_calib,\n",
    "                  parnames_fixed=parnames_fixed,\n",
    "                  age=age,\n",
    "                  ageN=ageN,\n",
    "                  ind_const_calib=ind_const_calib,\n",
    "                  ind_time_calib=ind_time_calib,\n",
    "                  ind_const_fixed=ind_const_fixed,\n",
    "                  ind_time_fixed=ind_time_fixed,\n",
    "                  ind_expected_time=ind_expected_time,\n",
    "                  ind_expected_const=ind_expected_const,\n",
    "                  iteration_threshold=iteration_threshold)[,'co2']})\n",
    "model_present1 <- apply(X=abs(model1-model_ref), MARGIN=2, FUN=sum)\n",
    "sens1_default <- model_present1 - mean(model_present1[is.finite(model_present1)])"
   ]
  },
  {
   "cell_type": "markdown",
   "metadata": {},
   "source": [
    "Lists (arrays) to hold the vectors of sensitivity measures for each $X_i$, for each $T$."
   ]
  },
  {
   "cell_type": "code",
   "execution_count": 31,
   "metadata": {
    "collapsed": true
   },
   "outputs": [],
   "source": [
    "sens1 <- vector('list', nT)\n",
    "sens2 <- vector('list', nT)\n",
    "sens3 <- vector('list', nT)\n",
    "corr <- vector('list', nT)"
   ]
  },
  {
   "cell_type": "markdown",
   "metadata": {},
   "source": [
    "For each number of parameters to vary, $T$, get sensitivity measure vectors `sens1`, `sens2` and `sens3`, and the correlation between them."
   ]
  },
  {
   "cell_type": "code",
   "execution_count": 32,
   "metadata": {
    "collapsed": true
   },
   "outputs": [],
   "source": [
    "for (tt in 1:nT) {\n",
    "\n",
    "    # x1: as is\n",
    "    sens1[[tt]] <- sens1_default\n",
    "\n",
    "    # x2: T most sensitive parameters as in x1, other 56-T are held at defaults\n",
    "    T <- T_test[tt]\n",
    "    ind_large <- order(s.out$T[,1], decreasing=TRUE)[1:T]\n",
    "    ind_small <- order(s.out$T[,1], decreasing=FALSE)[1:(56-T)]\n",
    "    x2 <- x1\n",
    "    x2[,ind_small] <- t(replicate(n_sample, par_calib0[ind_small]))\n",
    "    model2 <- sapply(1:n_sample, function(ss) {\n",
    "          model_forMCMC(par_calib=x2[ss,],\n",
    "                        par_fixed=par_fixed0,\n",
    "                        parnames_calib=parnames_calib,\n",
    "                        parnames_fixed=parnames_fixed,\n",
    "                        age=age,\n",
    "                        ageN=ageN,\n",
    "                        ind_const_calib=ind_const_calib,\n",
    "                        ind_time_calib=ind_time_calib,\n",
    "                        ind_const_fixed=ind_const_fixed,\n",
    "                        ind_time_fixed=ind_time_fixed,\n",
    "                        ind_expected_time=ind_expected_time,\n",
    "                        ind_expected_const=ind_expected_const,\n",
    "                        iteration_threshold=iteration_threshold)[,'co2']})\n",
    "    model_present2 <- apply(X=abs(model2-model_ref), MARGIN=2, FUN=sum)\n",
    "    sens2[[tt]] <- model_present2 - mean(model_present2[is.finite(model_present2)])\n",
    "\n",
    "    # x3: T most sensitive parameters fixed, other 56-T as in x1\n",
    "    x3 <- x1\n",
    "    x3[,ind_large] <- t(replicate(n_sample, par_calib0[ind_large]))\n",
    "    model3 <- sapply(1:n_sample, function(ss) {\n",
    "          model_forMCMC(par_calib=x3[ss,],\n",
    "                        par_fixed=par_fixed0,\n",
    "                        parnames_calib=parnames_calib,\n",
    "                        parnames_fixed=parnames_fixed,\n",
    "                        age=age,\n",
    "                        ageN=ageN,\n",
    "                        ind_const_calib=ind_const_calib,\n",
    "                        ind_time_calib=ind_time_calib,\n",
    "                        ind_const_fixed=ind_const_fixed,\n",
    "                        ind_time_fixed=ind_time_fixed,\n",
    "                        ind_expected_time=ind_expected_time,\n",
    "                        ind_expected_const=ind_expected_const,\n",
    "                        iteration_threshold=iteration_threshold)[,'co2']})\n",
    "    model_present3 <- apply(X=abs(model3-model_ref), MARGIN=2, FUN=sum)\n",
    "    sens3[[tt]] <- model_present3 - mean(model_present3[is.finite(model_present3)])\n",
    "\n",
    "    # get rid of the bad runs\n",
    "    irem <- which(is.infinite(sens1[[tt]]) | is.infinite(sens2[[tt]]) | is.infinite(sens3[[tt]]))\n",
    "    sens1[[tt]] <- sens1[[tt]][-irem]\n",
    "    sens2[[tt]] <- sens2[[tt]][-irem]\n",
    "    sens3[[tt]] <- sens3[[tt]][-irem]\n",
    "\n",
    "    # correlations\n",
    "    corr[[tt]] <- cor(cbind(sens1[[tt]],sens2[[tt]],sens3[[tt]]))\n",
    "    corr_s12[iter, tt] <- corr[[tt]][1,2]\n",
    "    corr_s13[iter, tt] <- corr[[tt]][1,3]\n",
    "\n",
    "}"
   ]
  },
  {
   "cell_type": "markdown",
   "metadata": {},
   "source": [
    "Save the results"
   ]
  },
  {
   "cell_type": "code",
   "execution_count": 20,
   "metadata": {
    "collapsed": true
   },
   "outputs": [],
   "source": [
    "if(FALSE) {\n",
    "    sens_total <- s.out$T\n",
    "    save(list=c('x1','sens1','sens2','sens3','corr','T_test','corr_s12','corr_s13','sens_total'), file='sobol_corr.RData')\n",
    "}"
   ]
  },
  {
   "cell_type": "markdown",
   "metadata": {},
   "source": [
    "Plotting"
   ]
  },
  {
   "cell_type": "code",
   "execution_count": 21,
   "metadata": {},
   "outputs": [
    {
     "ename": "ERROR",
     "evalue": "Error in sens1[[T]]: attempt to select less than one element in get1index\n",
     "output_type": "error",
     "traceback": [
      "Error in sens1[[T]]: attempt to select less than one element in get1index\nTraceback:\n",
      "1. plot(sens1[[T]], sens2[[T]], xlim = bounds, ylim = bounds, xlab = \"X1\", \n .     ylab = \"X2\")"
     ]
    }
   ],
   "source": [
    "options(repr.plot.width=5, repr.plot.height=8)\n",
    "par(mfrow=c(3,2))\n",
    "\n",
    "bounds <- c(-25000, 65000)\n",
    "\n",
    "T <- 10; T <- which(T_test==T)\n",
    "plot(sens1[[T]], sens2[[T]], xlim=bounds, ylim=bounds, xlab='X1', ylab='X2')\n",
    "lines(bounds, bounds, col='red', lwd=2)\n",
    "text(bounds[1]+0.15*diff(bounds), bounds[1]+0.95*diff(bounds), paste('r = ',round(corr_s12[T],3), sep=''))\n",
    "title(paste('T = ',T_test[T]))\n",
    "plot(sens1[[T]], sens3[[T]], xlim=bounds, ylim=bounds, xlab='X1', ylab='X3')\n",
    "lines(bounds, c(0,0), col='red', lwd=2)\n",
    "text(bounds[1]+0.15*diff(bounds), bounds[1]+0.95*diff(bounds), paste('r = ',round(corr_s13[T],3), sep=''))\n",
    "\n",
    "T <- 20; T <- which(T_test==T)\n",
    "plot(sens1[[T]], sens2[[T]], xlim=bounds, ylim=bounds, xlab='X1', ylab='X2')\n",
    "lines(bounds, bounds, col='red', lwd=2)\n",
    "text(bounds[1]+0.15*diff(bounds), bounds[1]+0.95*diff(bounds), paste('r = ',round(corr_s12[T],3), sep=''))\n",
    "title(paste('T = ',T_test[T]))\n",
    "plot(sens1[[T]], sens3[[T]], xlim=bounds, ylim=bounds, xlab='X1', ylab='X3')\n",
    "lines(bounds, c(0,0), col='red', lwd=2)\n",
    "text(bounds[1]+0.15*diff(bounds), bounds[1]+0.95*diff(bounds), paste('r = ',round(corr_s13[T],3), sep=''))\n",
    "\n",
    "T <- 30; T <- which(T_test==T)\n",
    "plot(sens1[[T]], sens2[[T]], xlim=bounds, ylim=bounds, xlab='X1', ylab='X2')\n",
    "lines(bounds, bounds, col='red', lwd=2)\n",
    "text(bounds[1]+0.15*diff(bounds), bounds[1]+0.95*diff(bounds), paste('r = ',round(corr_s12[T],3), sep=''))\n",
    "title(paste('T = ',T_test[T]))\n",
    "plot(sens1[[T]], sens3[[T]], xlim=bounds, ylim=bounds, xlab='X1', ylab='X3')\n",
    "lines(bounds, c(0,0), col='red', lwd=2)\n",
    "text(bounds[1]+0.15*diff(bounds), bounds[1]+0.95*diff(bounds), paste('r = ',round(corr_s13[T],3), sep=''))"
   ]
  },
  {
   "cell_type": "code",
   "execution_count": 33,
   "metadata": {},
   "outputs": [
    {
     "data": {
      "text/html": [
       "<table>\n",
       "<thead><tr><th scope=col>T</th><th scope=col>r12</th><th scope=col>r13</th></tr></thead>\n",
       "<tbody>\n",
       "\t<tr><td>20           </td><td>0.8793267    </td><td> 0.0130707245</td></tr>\n",
       "\t<tr><td>21           </td><td>0.8912311    </td><td> 0.0069008550</td></tr>\n",
       "\t<tr><td>22           </td><td>0.9055024    </td><td>-0.0001605527</td></tr>\n",
       "\t<tr><td>23           </td><td>0.9194946    </td><td>-0.0011434563</td></tr>\n",
       "\t<tr><td>24           </td><td>0.9118777    </td><td>-0.0168752408</td></tr>\n",
       "\t<tr><td>25           </td><td>0.9845181    </td><td> 0.0557556403</td></tr>\n",
       "\t<tr><td>26           </td><td>0.9843188    </td><td> 0.0417489301</td></tr>\n",
       "\t<tr><td>27           </td><td>0.9866567    </td><td> 0.0431043144</td></tr>\n",
       "</tbody>\n",
       "</table>\n"
      ],
      "text/latex": [
       "\\begin{tabular}{lll}\n",
       " T & r12 & r13\\\\\n",
       "\\hline\n",
       "\t 20            & 0.8793267     &  0.0130707245\\\\\n",
       "\t 21            & 0.8912311     &  0.0069008550\\\\\n",
       "\t 22            & 0.9055024     & -0.0001605527\\\\\n",
       "\t 23            & 0.9194946     & -0.0011434563\\\\\n",
       "\t 24            & 0.9118777     & -0.0168752408\\\\\n",
       "\t 25            & 0.9845181     &  0.0557556403\\\\\n",
       "\t 26            & 0.9843188     &  0.0417489301\\\\\n",
       "\t 27            & 0.9866567     &  0.0431043144\\\\\n",
       "\\end{tabular}\n"
      ],
      "text/markdown": [
       "\n",
       "T | r12 | r13 | \n",
       "|---|---|---|---|---|---|---|---|\n",
       "| 20            | 0.8793267     |  0.0130707245 | \n",
       "| 21            | 0.8912311     |  0.0069008550 | \n",
       "| 22            | 0.9055024     | -0.0001605527 | \n",
       "| 23            | 0.9194946     | -0.0011434563 | \n",
       "| 24            | 0.9118777     | -0.0168752408 | \n",
       "| 25            | 0.9845181     |  0.0557556403 | \n",
       "| 26            | 0.9843188     |  0.0417489301 | \n",
       "| 27            | 0.9866567     |  0.0431043144 | \n",
       "\n",
       "\n"
      ],
      "text/plain": [
       "     T  r12       r13          \n",
       "[1,] 20 0.8793267  0.0130707245\n",
       "[2,] 21 0.8912311  0.0069008550\n",
       "[3,] 22 0.9055024 -0.0001605527\n",
       "[4,] 23 0.9194946 -0.0011434563\n",
       "[5,] 24 0.9118777 -0.0168752408\n",
       "[6,] 25 0.9845181  0.0557556403\n",
       "[7,] 26 0.9843188  0.0417489301\n",
       "[8,] 27 0.9866567  0.0431043144"
      ]
     },
     "metadata": {},
     "output_type": "display_data"
    }
   ],
   "source": [
    "corrs <- matrix(nrow=nT, ncol=3)\n",
    "colnames(corrs) <- c('T','r12','r13')\n",
    "for (t in 1:nT) {\n",
    "    corrs[t,] <- c(T_test[t], corr_s12[[t]], corr_s13[[t]])\n",
    "}\n",
    "\n",
    "corrs"
   ]
  },
  {
   "cell_type": "code",
   "execution_count": 37,
   "metadata": {},
   "outputs": [
    {
     "data": {
      "text/html": [
       "<ol class=list-inline>\n",
       "\t<li>'COC'</li>\n",
       "\t<li>'dlpy_570'</li>\n",
       "\t<li>'dlsy_570'</li>\n",
       "\t<li>'Fwga_0'</li>\n",
       "\t<li>'kwpy'</li>\n",
       "\t<li>'dlgy_570'</li>\n",
       "\t<li>'Fms_0'</li>\n",
       "\t<li>'dlpa_570'</li>\n",
       "\t<li>'Spy_570'</li>\n",
       "\t<li>'J'</li>\n",
       "\t<li>'Fwpa_0'</li>\n",
       "\t<li>'kwsy'</li>\n",
       "\t<li>'dlga_570'</li>\n",
       "\t<li>'exp_NV'</li>\n",
       "\t<li>'Fmg_0'</li>\n",
       "\t<li>'Fmp_0'</li>\n",
       "\t<li>'NV'</li>\n",
       "\t<li>'Fwca_0'</li>\n",
       "\t<li>'n'</li>\n",
       "\t<li>'oxygen_570'</li>\n",
       "\t<li>'ST'</li>\n",
       "\t<li>'Spa'</li>\n",
       "\t<li>'GLAC'</li>\n",
       "\t<li>'CAPd34S_0'</li>\n",
       "\t<li>'Ssy_570'</li>\n",
       "\t<li>'dlct'</li>\n",
       "\t<li>'dlst'</li>\n",
       "\t<li>'Gy_570'</li>\n",
       "\t<li>'dlcy_570'</li>\n",
       "\t<li>'ACTcarb'</li>\n",
       "\t<li>'CAPd13C_0'</li>\n",
       "\t<li>'exp_fD'</li>\n",
       "\t<li>'Rg_570'</li>\n",
       "\t<li>'Cy_570'</li>\n",
       "\t<li>'Rv_570'</li>\n",
       "\t<li>'Fob'</li>\n",
       "\t<li>'kwgy'</li>\n",
       "\t<li>'Xvolc_0'</li>\n",
       "\t<li>'ACT'</li>\n",
       "\t<li>'Fwsi_0'</li>\n",
       "\t<li>'Ga'</li>\n",
       "\t<li>'CT'</li>\n",
       "\t<li>'Fmc_0'</li>\n",
       "\t<li>'VNV'</li>\n",
       "\t<li>'Rca_570'</li>\n",
       "\t<li>'Fwsa_0'</li>\n",
       "\t<li>'Ssa'</li>\n",
       "\t<li>'FERT'</li>\n",
       "\t<li>'Rcy_570'</li>\n",
       "\t<li>'exp_fnBb'</li>\n",
       "\t<li>'GYM'</li>\n",
       "\t<li>'Ca_570'</li>\n",
       "\t<li>'Ws'</li>\n",
       "\t<li>'kwcy'</li>\n",
       "\t<li>'LIFE'</li>\n",
       "\t<li>'deltaT2X'</li>\n",
       "</ol>\n"
      ],
      "text/latex": [
       "\\begin{enumerate*}\n",
       "\\item 'COC'\n",
       "\\item 'dlpy\\_570'\n",
       "\\item 'dlsy\\_570'\n",
       "\\item 'Fwga\\_0'\n",
       "\\item 'kwpy'\n",
       "\\item 'dlgy\\_570'\n",
       "\\item 'Fms\\_0'\n",
       "\\item 'dlpa\\_570'\n",
       "\\item 'Spy\\_570'\n",
       "\\item 'J'\n",
       "\\item 'Fwpa\\_0'\n",
       "\\item 'kwsy'\n",
       "\\item 'dlga\\_570'\n",
       "\\item 'exp\\_NV'\n",
       "\\item 'Fmg\\_0'\n",
       "\\item 'Fmp\\_0'\n",
       "\\item 'NV'\n",
       "\\item 'Fwca\\_0'\n",
       "\\item 'n'\n",
       "\\item 'oxygen\\_570'\n",
       "\\item 'ST'\n",
       "\\item 'Spa'\n",
       "\\item 'GLAC'\n",
       "\\item 'CAPd34S\\_0'\n",
       "\\item 'Ssy\\_570'\n",
       "\\item 'dlct'\n",
       "\\item 'dlst'\n",
       "\\item 'Gy\\_570'\n",
       "\\item 'dlcy\\_570'\n",
       "\\item 'ACTcarb'\n",
       "\\item 'CAPd13C\\_0'\n",
       "\\item 'exp\\_fD'\n",
       "\\item 'Rg\\_570'\n",
       "\\item 'Cy\\_570'\n",
       "\\item 'Rv\\_570'\n",
       "\\item 'Fob'\n",
       "\\item 'kwgy'\n",
       "\\item 'Xvolc\\_0'\n",
       "\\item 'ACT'\n",
       "\\item 'Fwsi\\_0'\n",
       "\\item 'Ga'\n",
       "\\item 'CT'\n",
       "\\item 'Fmc\\_0'\n",
       "\\item 'VNV'\n",
       "\\item 'Rca\\_570'\n",
       "\\item 'Fwsa\\_0'\n",
       "\\item 'Ssa'\n",
       "\\item 'FERT'\n",
       "\\item 'Rcy\\_570'\n",
       "\\item 'exp\\_fnBb'\n",
       "\\item 'GYM'\n",
       "\\item 'Ca\\_570'\n",
       "\\item 'Ws'\n",
       "\\item 'kwcy'\n",
       "\\item 'LIFE'\n",
       "\\item 'deltaT2X'\n",
       "\\end{enumerate*}\n"
      ],
      "text/markdown": [
       "1. 'COC'\n",
       "2. 'dlpy_570'\n",
       "3. 'dlsy_570'\n",
       "4. 'Fwga_0'\n",
       "5. 'kwpy'\n",
       "6. 'dlgy_570'\n",
       "7. 'Fms_0'\n",
       "8. 'dlpa_570'\n",
       "9. 'Spy_570'\n",
       "10. 'J'\n",
       "11. 'Fwpa_0'\n",
       "12. 'kwsy'\n",
       "13. 'dlga_570'\n",
       "14. 'exp_NV'\n",
       "15. 'Fmg_0'\n",
       "16. 'Fmp_0'\n",
       "17. 'NV'\n",
       "18. 'Fwca_0'\n",
       "19. 'n'\n",
       "20. 'oxygen_570'\n",
       "21. 'ST'\n",
       "22. 'Spa'\n",
       "23. 'GLAC'\n",
       "24. 'CAPd34S_0'\n",
       "25. 'Ssy_570'\n",
       "26. 'dlct'\n",
       "27. 'dlst'\n",
       "28. 'Gy_570'\n",
       "29. 'dlcy_570'\n",
       "30. 'ACTcarb'\n",
       "31. 'CAPd13C_0'\n",
       "32. 'exp_fD'\n",
       "33. 'Rg_570'\n",
       "34. 'Cy_570'\n",
       "35. 'Rv_570'\n",
       "36. 'Fob'\n",
       "37. 'kwgy'\n",
       "38. 'Xvolc_0'\n",
       "39. 'ACT'\n",
       "40. 'Fwsi_0'\n",
       "41. 'Ga'\n",
       "42. 'CT'\n",
       "43. 'Fmc_0'\n",
       "44. 'VNV'\n",
       "45. 'Rca_570'\n",
       "46. 'Fwsa_0'\n",
       "47. 'Ssa'\n",
       "48. 'FERT'\n",
       "49. 'Rcy_570'\n",
       "50. 'exp_fnBb'\n",
       "51. 'GYM'\n",
       "52. 'Ca_570'\n",
       "53. 'Ws'\n",
       "54. 'kwcy'\n",
       "55. 'LIFE'\n",
       "56. 'deltaT2X'\n",
       "\n",
       "\n"
      ],
      "text/plain": [
       " [1] \"COC\"        \"dlpy_570\"   \"dlsy_570\"   \"Fwga_0\"     \"kwpy\"      \n",
       " [6] \"dlgy_570\"   \"Fms_0\"      \"dlpa_570\"   \"Spy_570\"    \"J\"         \n",
       "[11] \"Fwpa_0\"     \"kwsy\"       \"dlga_570\"   \"exp_NV\"     \"Fmg_0\"     \n",
       "[16] \"Fmp_0\"      \"NV\"         \"Fwca_0\"     \"n\"          \"oxygen_570\"\n",
       "[21] \"ST\"         \"Spa\"        \"GLAC\"       \"CAPd34S_0\"  \"Ssy_570\"   \n",
       "[26] \"dlct\"       \"dlst\"       \"Gy_570\"     \"dlcy_570\"   \"ACTcarb\"   \n",
       "[31] \"CAPd13C_0\"  \"exp_fD\"     \"Rg_570\"     \"Cy_570\"     \"Rv_570\"    \n",
       "[36] \"Fob\"        \"kwgy\"       \"Xvolc_0\"    \"ACT\"        \"Fwsi_0\"    \n",
       "[41] \"Ga\"         \"CT\"         \"Fmc_0\"      \"VNV\"        \"Rca_570\"   \n",
       "[46] \"Fwsa_0\"     \"Ssa\"        \"FERT\"       \"Rcy_570\"    \"exp_fnBb\"  \n",
       "[51] \"GYM\"        \"Ca_570\"     \"Ws\"         \"kwcy\"       \"LIFE\"      \n",
       "[56] \"deltaT2X\"  "
      ]
     },
     "metadata": {},
     "output_type": "display_data"
    }
   ],
   "source": [
    "parnames_calib[order(s.out$T$original)]"
   ]
  },
  {
   "cell_type": "code",
   "execution_count": 34,
   "metadata": {},
   "outputs": [
    {
     "data": {
      "text/html": [
       "<ol class=list-inline>\n",
       "\t<li>'ACT'</li>\n",
       "\t<li>'ACTcarb'</li>\n",
       "\t<li>'VNV'</li>\n",
       "\t<li>'NV'</li>\n",
       "\t<li>'exp_NV'</li>\n",
       "\t<li>'LIFE'</li>\n",
       "\t<li>'GYM'</li>\n",
       "\t<li>'FERT'</li>\n",
       "\t<li>'exp_fnBb'</li>\n",
       "\t<li>'deltaT2X'</li>\n",
       "\t<li>'GLAC'</li>\n",
       "\t<li>'J'</li>\n",
       "\t<li>'n'</li>\n",
       "\t<li>'Ws'</li>\n",
       "\t<li>'exp_fD'</li>\n",
       "\t<li>'Fwpa_0'</li>\n",
       "\t<li>'Fwsa_0'</li>\n",
       "\t<li>'Fwga_0'</li>\n",
       "\t<li>'Fwca_0'</li>\n",
       "\t<li>'Fmg_0'</li>\n",
       "\t<li>'Fmc_0'</li>\n",
       "\t<li>'Fmp_0'</li>\n",
       "\t<li>'Fms_0'</li>\n",
       "\t<li>'Fwsi_0'</li>\n",
       "\t<li>'Xvolc_0'</li>\n",
       "\t<li>'CAPd13C_0'</li>\n",
       "\t<li>'CAPd34S_0'</li>\n",
       "\t<li>'oxygen_570'</li>\n",
       "\t<li>'Gy_570'</li>\n",
       "\t<li>'Cy_570'</li>\n",
       "\t<li>'Ca_570'</li>\n",
       "\t<li>'Ssy_570'</li>\n",
       "\t<li>'Spy_570'</li>\n",
       "\t<li>'dlsy_570'</li>\n",
       "\t<li>'dlcy_570'</li>\n",
       "\t<li>'dlpy_570'</li>\n",
       "\t<li>'dlpa_570'</li>\n",
       "\t<li>'dlgy_570'</li>\n",
       "\t<li>'dlga_570'</li>\n",
       "\t<li>'Rcy_570'</li>\n",
       "\t<li>'Rca_570'</li>\n",
       "\t<li>'Rv_570'</li>\n",
       "\t<li>'Rg_570'</li>\n",
       "\t<li>'Fob'</li>\n",
       "\t<li>'COC'</li>\n",
       "\t<li>'Ga'</li>\n",
       "\t<li>'Ssa'</li>\n",
       "\t<li>'Spa'</li>\n",
       "\t<li>'ST'</li>\n",
       "\t<li>'dlst'</li>\n",
       "\t<li>'CT'</li>\n",
       "\t<li>'dlct'</li>\n",
       "\t<li>'kwpy'</li>\n",
       "\t<li>'kwsy'</li>\n",
       "\t<li>'kwgy'</li>\n",
       "\t<li>'kwcy'</li>\n",
       "</ol>\n"
      ],
      "text/latex": [
       "\\begin{enumerate*}\n",
       "\\item 'ACT'\n",
       "\\item 'ACTcarb'\n",
       "\\item 'VNV'\n",
       "\\item 'NV'\n",
       "\\item 'exp\\_NV'\n",
       "\\item 'LIFE'\n",
       "\\item 'GYM'\n",
       "\\item 'FERT'\n",
       "\\item 'exp\\_fnBb'\n",
       "\\item 'deltaT2X'\n",
       "\\item 'GLAC'\n",
       "\\item 'J'\n",
       "\\item 'n'\n",
       "\\item 'Ws'\n",
       "\\item 'exp\\_fD'\n",
       "\\item 'Fwpa\\_0'\n",
       "\\item 'Fwsa\\_0'\n",
       "\\item 'Fwga\\_0'\n",
       "\\item 'Fwca\\_0'\n",
       "\\item 'Fmg\\_0'\n",
       "\\item 'Fmc\\_0'\n",
       "\\item 'Fmp\\_0'\n",
       "\\item 'Fms\\_0'\n",
       "\\item 'Fwsi\\_0'\n",
       "\\item 'Xvolc\\_0'\n",
       "\\item 'CAPd13C\\_0'\n",
       "\\item 'CAPd34S\\_0'\n",
       "\\item 'oxygen\\_570'\n",
       "\\item 'Gy\\_570'\n",
       "\\item 'Cy\\_570'\n",
       "\\item 'Ca\\_570'\n",
       "\\item 'Ssy\\_570'\n",
       "\\item 'Spy\\_570'\n",
       "\\item 'dlsy\\_570'\n",
       "\\item 'dlcy\\_570'\n",
       "\\item 'dlpy\\_570'\n",
       "\\item 'dlpa\\_570'\n",
       "\\item 'dlgy\\_570'\n",
       "\\item 'dlga\\_570'\n",
       "\\item 'Rcy\\_570'\n",
       "\\item 'Rca\\_570'\n",
       "\\item 'Rv\\_570'\n",
       "\\item 'Rg\\_570'\n",
       "\\item 'Fob'\n",
       "\\item 'COC'\n",
       "\\item 'Ga'\n",
       "\\item 'Ssa'\n",
       "\\item 'Spa'\n",
       "\\item 'ST'\n",
       "\\item 'dlst'\n",
       "\\item 'CT'\n",
       "\\item 'dlct'\n",
       "\\item 'kwpy'\n",
       "\\item 'kwsy'\n",
       "\\item 'kwgy'\n",
       "\\item 'kwcy'\n",
       "\\end{enumerate*}\n"
      ],
      "text/markdown": [
       "1. 'ACT'\n",
       "2. 'ACTcarb'\n",
       "3. 'VNV'\n",
       "4. 'NV'\n",
       "5. 'exp_NV'\n",
       "6. 'LIFE'\n",
       "7. 'GYM'\n",
       "8. 'FERT'\n",
       "9. 'exp_fnBb'\n",
       "10. 'deltaT2X'\n",
       "11. 'GLAC'\n",
       "12. 'J'\n",
       "13. 'n'\n",
       "14. 'Ws'\n",
       "15. 'exp_fD'\n",
       "16. 'Fwpa_0'\n",
       "17. 'Fwsa_0'\n",
       "18. 'Fwga_0'\n",
       "19. 'Fwca_0'\n",
       "20. 'Fmg_0'\n",
       "21. 'Fmc_0'\n",
       "22. 'Fmp_0'\n",
       "23. 'Fms_0'\n",
       "24. 'Fwsi_0'\n",
       "25. 'Xvolc_0'\n",
       "26. 'CAPd13C_0'\n",
       "27. 'CAPd34S_0'\n",
       "28. 'oxygen_570'\n",
       "29. 'Gy_570'\n",
       "30. 'Cy_570'\n",
       "31. 'Ca_570'\n",
       "32. 'Ssy_570'\n",
       "33. 'Spy_570'\n",
       "34. 'dlsy_570'\n",
       "35. 'dlcy_570'\n",
       "36. 'dlpy_570'\n",
       "37. 'dlpa_570'\n",
       "38. 'dlgy_570'\n",
       "39. 'dlga_570'\n",
       "40. 'Rcy_570'\n",
       "41. 'Rca_570'\n",
       "42. 'Rv_570'\n",
       "43. 'Rg_570'\n",
       "44. 'Fob'\n",
       "45. 'COC'\n",
       "46. 'Ga'\n",
       "47. 'Ssa'\n",
       "48. 'Spa'\n",
       "49. 'ST'\n",
       "50. 'dlst'\n",
       "51. 'CT'\n",
       "52. 'dlct'\n",
       "53. 'kwpy'\n",
       "54. 'kwsy'\n",
       "55. 'kwgy'\n",
       "56. 'kwcy'\n",
       "\n",
       "\n"
      ],
      "text/plain": [
       " [1] \"ACT\"        \"ACTcarb\"    \"VNV\"        \"NV\"         \"exp_NV\"    \n",
       " [6] \"LIFE\"       \"GYM\"        \"FERT\"       \"exp_fnBb\"   \"deltaT2X\"  \n",
       "[11] \"GLAC\"       \"J\"          \"n\"          \"Ws\"         \"exp_fD\"    \n",
       "[16] \"Fwpa_0\"     \"Fwsa_0\"     \"Fwga_0\"     \"Fwca_0\"     \"Fmg_0\"     \n",
       "[21] \"Fmc_0\"      \"Fmp_0\"      \"Fms_0\"      \"Fwsi_0\"     \"Xvolc_0\"   \n",
       "[26] \"CAPd13C_0\"  \"CAPd34S_0\"  \"oxygen_570\" \"Gy_570\"     \"Cy_570\"    \n",
       "[31] \"Ca_570\"     \"Ssy_570\"    \"Spy_570\"    \"dlsy_570\"   \"dlcy_570\"  \n",
       "[36] \"dlpy_570\"   \"dlpa_570\"   \"dlgy_570\"   \"dlga_570\"   \"Rcy_570\"   \n",
       "[41] \"Rca_570\"    \"Rv_570\"     \"Rg_570\"     \"Fob\"        \"COC\"       \n",
       "[46] \"Ga\"         \"Ssa\"        \"Spa\"        \"ST\"         \"dlst\"      \n",
       "[51] \"CT\"         \"dlct\"       \"kwpy\"       \"kwsy\"       \"kwgy\"      \n",
       "[56] \"kwcy\"      "
      ]
     },
     "metadata": {},
     "output_type": "display_data"
    }
   ],
   "source": [
    "parnames_calib[order()]"
   ]
  },
  {
   "cell_type": "code",
   "execution_count": null,
   "metadata": {
    "collapsed": true
   },
   "outputs": [],
   "source": []
  }
 ],
 "metadata": {
  "kernelspec": {
   "display_name": "R",
   "language": "R",
   "name": "ir"
  },
  "language_info": {
   "codemirror_mode": "r",
   "file_extension": ".r",
   "mimetype": "text/x-r-source",
   "name": "R",
   "pygments_lexer": "r",
   "version": "3.4.1"
  }
 },
 "nbformat": 4,
 "nbformat_minor": 2
}
