{
 "cells": [
  {
   "cell_type": "markdown",
   "metadata": {},
   "source": [
    "# Sensitivity analysis\n",
    "\n",
    "Tony Wong (<anthony.e.wong@colorado.edu>)\n",
    "\n",
    "## Step 1:  Sobol'\n",
    "\n",
    "(not covered here, leads to the `.rds` file as below)\n",
    "\n",
    "## Step 2:  Sobol' subsample correlations\n",
    "\n",
    "We will create sub-samples of Sobol' sensitivity runs, $X_1$, $X_2$ and $X_3$, chosen as follows:\n",
    "* $X_1$ is sensitivity measure where we vary all parameters\n",
    "* $X_2$ is sensitivity measure where we only vary the $T$ most sensitive parameters, and hold the other $56-T$ parameters fixed.\n",
    "* $X_3$ is sensitivity measure where we keep the $T$ most sensitive parameters fixed, and vary the $56-T$ least sensitive parameters.\n",
    "\n",
    "So, as $T$ increases, we expect to see:\n",
    "* the correlation between $X_1$ and $X_2$ go to $1$, and\n",
    "* the correlation between $X_1$ and $X_3$ go to $0$.\n",
    "---"
   ]
  },
  {
   "cell_type": "markdown",
   "metadata": {},
   "source": [
    "Navigate to Tony's local directory and read previous Sobol' sensitivity results, and load library(ies)"
   ]
  },
  {
   "cell_type": "code",
   "execution_count": 13,
   "metadata": {
    "collapsed": true
   },
   "outputs": [],
   "source": [
    "library(repr)\n",
    "#setwd('/home/scrim/axw322/codes/GEOCARB/R')\n",
    "setwd('/Users/tony/codes/Royer2007-Climate-Sensitivity/R')\n",
    "s.out <- readRDS('../output/sobol_alpha0_NS-n40K-bs10K_25Jun2018.rds')"
   ]
  },
  {
   "cell_type": "markdown",
   "metadata": {},
   "source": [
    "In practice, we will do this experiment many times and average the results.  For now, we only do it once (`n_iter`).\n",
    "\n",
    "`n_sample` below gives the size of each sample, $X_i$ ($i=1,2,3$)"
   ]
  },
  {
   "cell_type": "code",
   "execution_count": 14,
   "metadata": {
    "collapsed": true
   },
   "outputs": [],
   "source": [
    "n_iter <- 1\n",
    "n_sample <- 5000"
   ]
  },
  {
   "cell_type": "markdown",
   "metadata": {},
   "source": [
    "Get the default parameter values"
   ]
  },
  {
   "cell_type": "code",
   "execution_count": 15,
   "metadata": {
    "collapsed": true
   },
   "outputs": [],
   "source": [
    "filename.calibinput <- '../input_data/GEOCARB_input_summaries_calib.csv'\n",
    "source('GEOCARB-2014_parameterSetup.R')"
   ]
  },
  {
   "cell_type": "markdown",
   "metadata": {},
   "source": [
    "Source the physical model"
   ]
  },
  {
   "cell_type": "code",
   "execution_count": 16,
   "metadata": {
    "collapsed": true
   },
   "outputs": [],
   "source": [
    "source('model_forMCMC.R')\n",
    "source('run_geocarbF.R')"
   ]
  },
  {
   "cell_type": "markdown",
   "metadata": {},
   "source": [
    "Get the data, for calculation of the Nash-Sutcliffe efficiency as sensitivity measure"
   ]
  },
  {
   "cell_type": "code",
   "execution_count": 18,
   "metadata": {},
   "outputs": [],
   "source": [
    "co2_uncertainty_cutoff <- 20\n",
    "source('GEOCARB-2014_getData.R')"
   ]
  },
  {
   "cell_type": "markdown",
   "metadata": {},
   "source": [
    "Get the reference simulation, in case measuring sensitivity as L1 norm against this."
   ]
  },
  {
   "cell_type": "code",
   "execution_count": 19,
   "metadata": {
    "collapsed": true
   },
   "outputs": [],
   "source": [
    "model_ref <- model_forMCMC(par_calib=par_calib0,\n",
    "              par_fixed=par_fixed0,\n",
    "              parnames_calib=parnames_calib,\n",
    "              parnames_fixed=parnames_fixed,\n",
    "              age=age,\n",
    "              ageN=ageN,\n",
    "              ind_const_calib=ind_const_calib,\n",
    "              ind_time_calib=ind_time_calib,\n",
    "              ind_const_fixed=ind_const_fixed,\n",
    "              ind_time_fixed=ind_time_fixed,\n",
    "              ind_expected_time=ind_expected_time,\n",
    "              ind_expected_const=ind_expected_const,\n",
    "              iteration_threshold=iteration_threshold)[,'co2']"
   ]
  },
  {
   "cell_type": "markdown",
   "metadata": {},
   "source": [
    "`T_test` gives the number of parameters to vary, $T$.  This ranges from 2 to 55 because $T=1$ would just be a one-at-a-time sensitivity test, and because $T=56$ would be varying all of the parameters.  And the whole point is to leave some of them out.\n",
    "\n",
    "Here, I am going by 5s for speed, but we can of course check every value of $T$."
   ]
  },
  {
   "cell_type": "code",
   "execution_count": 20,
   "metadata": {
    "collapsed": true
   },
   "outputs": [],
   "source": [
    "#T_test <- seq(from=2, to=55, by=1)\n",
    "T_test <- c(2, 5, 10, 15, 20, 25, 30, 35, 40, 45, 50, 55)\n",
    "#T_test <- seq(from=20, to=27)\n",
    "nT <- length(T_test)"
   ]
  },
  {
   "cell_type": "markdown",
   "metadata": {},
   "source": [
    "Initialize matrices to hold the correlations between $X_1$, $X_2$ and $X_3$."
   ]
  },
  {
   "cell_type": "code",
   "execution_count": 24,
   "metadata": {
    "collapsed": true
   },
   "outputs": [],
   "source": [
    "corr_s12 <- mat.or.vec(n_iter, nT)\n",
    "corr_s13 <- mat.or.vec(n_iter, nT)\n",
    "\n",
    "iter <- 1  # this would be a `for` loop in the actual calculation\n",
    "\n",
    "# x1: as-is\n",
    "# sample a bunch of parameters\n",
    "x1 <- s.out$pA[sample(1:nrow(s.out$pA), n_sample, replace=FALSE),]"
   ]
  },
  {
   "cell_type": "code",
   "execution_count": 28,
   "metadata": {
    "collapsed": true
   },
   "outputs": [],
   "source": [
    "model1 <- sapply(1:n_sample, function(ss) {\n",
    "    model_forMCMC(par_calib=x1[ss,],\n",
    "                  par_fixed=par_fixed0,\n",
    "                  parnames_calib=parnames_calib,\n",
    "                  parnames_fixed=parnames_fixed,\n",
    "                  age=age,\n",
    "                  ageN=ageN,\n",
    "                  ind_const_calib=ind_const_calib,\n",
    "                  ind_time_calib=ind_time_calib,\n",
    "                  ind_const_fixed=ind_const_fixed,\n",
    "                  ind_time_fixed=ind_time_fixed,\n",
    "                  ind_expected_time=ind_expected_time,\n",
    "                  ind_expected_const=ind_expected_const,\n",
    "                  iteration_threshold=iteration_threshold)[,'co2']})\n",
    "\n",
    "sens1_default <- rep(NA, n_sample)\n",
    "for (ss in 1:n_sample) {\n",
    "    model_stdy <- model1[ind_mod2obs, ss]\n",
    "    icomp <- which(is.finite(model_stdy) & !is.na(model_stdy))  # only compare valid values\n",
    "    sse <- sum( (model_stdy[icomp] - data_calib$co2[icomp])^2 )\n",
    "    sst <- sum( (data_calib$co2[icomp] - mean(data_calib$co2[icomp]))^2 )\n",
    "    sens1_default[ss] <- 1 - sse/sst\n",
    "}\n",
    "##model_present1 <- apply(X=abs(model1-model_ref), MARGIN=2, FUN=sum)\n",
    "##sens1_default <- model_present1 - mean(model_present1[is.finite(model_present1)])"
   ]
  },
  {
   "cell_type": "markdown",
   "metadata": {},
   "source": [
    "Lists (arrays) to hold the vectors of sensitivity measures for each $X_i$, for each $T$."
   ]
  },
  {
   "cell_type": "code",
   "execution_count": 29,
   "metadata": {
    "collapsed": true
   },
   "outputs": [],
   "source": [
    "sens1 <- vector('list', nT)\n",
    "sens2 <- vector('list', nT)\n",
    "sens3 <- vector('list', nT)\n",
    "corr <- vector('list', nT)"
   ]
  },
  {
   "cell_type": "markdown",
   "metadata": {},
   "source": [
    "For each number of parameters to vary, $T$, get sensitivity measure vectors `sens1`, `sens2` and `sens3`, and the correlation between them."
   ]
  },
  {
   "cell_type": "code",
   "execution_count": 53,
   "metadata": {
    "collapsed": true
   },
   "outputs": [],
   "source": [
    "for (tt in 1:nT) {\n",
    "\n",
    "    # x1: as is\n",
    "    sens1[[tt]] <- sens1_default\n",
    "\n",
    "    # x2: T most sensitive parameters as in x1, other 56-T are held at defaults\n",
    "    T <- T_test[tt]\n",
    "    ind_large <- order(s.out$T[,1], decreasing=TRUE)[1:T]\n",
    "    ind_small <- order(s.out$T[,1], decreasing=FALSE)[1:(56-T)]\n",
    "    x2 <- x1\n",
    "    if (length(ind_small)>1) {\n",
    "        x2[,ind_small] <- t(replicate(n_sample, par_calib0[ind_small]))\n",
    "    } else {\n",
    "        x2[,ind_small] <- replicate(n_sample, par_calib0[ind_small])\n",
    "    }\n",
    "    model2 <- sapply(1:n_sample, function(ss) {\n",
    "          model_forMCMC(par_calib=x2[ss,],\n",
    "                        par_fixed=par_fixed0,\n",
    "                        parnames_calib=parnames_calib,\n",
    "                        parnames_fixed=parnames_fixed,\n",
    "                        age=age,\n",
    "                        ageN=ageN,\n",
    "                        ind_const_calib=ind_const_calib,\n",
    "                        ind_time_calib=ind_time_calib,\n",
    "                        ind_const_fixed=ind_const_fixed,\n",
    "                        ind_time_fixed=ind_time_fixed,\n",
    "                        ind_expected_time=ind_expected_time,\n",
    "                        ind_expected_const=ind_expected_const,\n",
    "                        iteration_threshold=iteration_threshold)[,'co2']})\n",
    "    \n",
    "    sens2[[tt]] <- rep(NA, n_sample) #initialize\n",
    "    for (ss in 1:n_sample) {\n",
    "        model_stdy <- model2[ind_mod2obs, ss]\n",
    "        icomp <- which(is.finite(model_stdy) & !is.na(model_stdy))  # only compare valid values\n",
    "        sse <- sum( (model_stdy[icomp] - data_calib$co2[icomp])^2 )\n",
    "        sst <- sum( (data_calib$co2[icomp] - mean(data_calib$co2[icomp]))^2 )\n",
    "        sens2[[tt]][ss] <- 1 - sse/sst\n",
    "    }\n",
    "    ##model_present2 <- apply(X=abs(model2-model_ref), MARGIN=2, FUN=sum)\n",
    "    ##sens2[[tt]] <- model_present2 - mean(model_present2[is.finite(model_present2)])\n",
    "\n",
    "    # x3: T most sensitive parameters fixed, other 56-T as in x1\n",
    "    x3 <- x1\n",
    "    x3[,ind_large] <- t(replicate(n_sample, par_calib0[ind_large]))\n",
    "    model3 <- sapply(1:n_sample, function(ss) {\n",
    "          model_forMCMC(par_calib=x3[ss,],\n",
    "                        par_fixed=par_fixed0,\n",
    "                        parnames_calib=parnames_calib,\n",
    "                        parnames_fixed=parnames_fixed,\n",
    "                        age=age,\n",
    "                        ageN=ageN,\n",
    "                        ind_const_calib=ind_const_calib,\n",
    "                        ind_time_calib=ind_time_calib,\n",
    "                        ind_const_fixed=ind_const_fixed,\n",
    "                        ind_time_fixed=ind_time_fixed,\n",
    "                        ind_expected_time=ind_expected_time,\n",
    "                        ind_expected_const=ind_expected_const,\n",
    "                        iteration_threshold=iteration_threshold)[,'co2']})\n",
    "    sens3[[tt]] <- rep(NA, n_sample) #initialize\n",
    "    for (ss in 1:n_sample) {\n",
    "        model_stdy <- model3[ind_mod2obs, ss]\n",
    "        icomp <- which(is.finite(model_stdy) & !is.na(model_stdy))  # only compare valid values\n",
    "        sse <- sum( (model_stdy[icomp] - data_calib$co2[icomp])^2 )\n",
    "        sst <- sum( (data_calib$co2[icomp] - mean(data_calib$co2[icomp]))^2 )\n",
    "        sens3[[tt]][ss] <- 1 - sse/sst\n",
    "    }\n",
    "    ##model_present3 <- apply(X=abs(model3-model_ref), MARGIN=2, FUN=sum)\n",
    "    ##sens3[[tt]] <- model_present3 - mean(model_present3[is.finite(model_present3)])\n",
    "\n",
    "    # get rid of the bad runs\n",
    "    irem <- which(is.infinite(sens1[[tt]]) | is.infinite(sens2[[tt]]) | is.infinite(sens3[[tt]]) | \n",
    "                  sens1[[tt]] < -10 | sens2[[tt]] < -10 | sens3[[tt]] < -10)\n",
    "    if (length(irem)>0) {\n",
    "        sens1[[tt]] <- sens1[[tt]][-irem]\n",
    "        sens2[[tt]] <- sens2[[tt]][-irem]\n",
    "        sens3[[tt]] <- sens3[[tt]][-irem]\n",
    "    }\n",
    "\n",
    "    # correlations\n",
    "    corr[[tt]] <- cor(cbind(sens1[[tt]],sens2[[tt]],sens3[[tt]]))\n",
    "    corr_s12[iter, tt] <- corr[[tt]][1,2]\n",
    "    corr_s13[iter, tt] <- corr[[tt]][1,3]\n",
    "\n",
    "}"
   ]
  },
  {
   "cell_type": "markdown",
   "metadata": {},
   "source": [
    "Save the results"
   ]
  },
  {
   "cell_type": "code",
   "execution_count": 55,
   "metadata": {
    "collapsed": true
   },
   "outputs": [],
   "source": [
    "if(FALSE) {\n",
    "    sens_total <- s.out$T\n",
    "    save(list=c('x1','sens1','sens2','sens3','corr','T_test','corr_s12','corr_s13','sens_total'), file='sobol_corr.RData')\n",
    "}"
   ]
  },
  {
   "cell_type": "markdown",
   "metadata": {},
   "source": [
    "Plotting"
   ]
  },
  {
   "cell_type": "code",
   "execution_count": 55,
   "metadata": {},
   "outputs": [
    {
     "data": {
      "image/png": "[encoded data removed]",
      "text/plain": [
       "Plot with title \"T =  30\""
      ]
     },
     "metadata": {},
     "output_type": "display_data"
    }
   ],
   "source": [
    "options(repr.plot.width=5, repr.plot.height=8)\n",
    "par(mfrow=c(3,2))\n",
    "\n",
    "bounds <- c(-25000, 65000)\n",
    "\n",
    "T <- 10; T <- which(T_test==T)\n",
    "plot(sens1[[T]], sens2[[T]], xlim=bounds, ylim=bounds, xlab='X1', ylab='X2')\n",
    "lines(bounds, bounds, col='red', lwd=2)\n",
    "text(bounds[1]+0.15*diff(bounds), bounds[1]+0.95*diff(bounds), paste('r = ',round(corr_s12[T],3), sep=''))\n",
    "title(paste('T = ',T_test[T]))\n",
    "plot(sens1[[T]], sens3[[T]], xlim=bounds, ylim=bounds, xlab='X1', ylab='X3')\n",
    "lines(bounds, c(0,0), col='red', lwd=2)\n",
    "text(bounds[1]+0.15*diff(bounds), bounds[1]+0.95*diff(bounds), paste('r = ',round(corr_s13[T],3), sep=''))\n",
    "\n",
    "T <- 20; T <- which(T_test==T)\n",
    "plot(sens1[[T]], sens2[[T]], xlim=bounds, ylim=bounds, xlab='X1', ylab='X2')\n",
    "lines(bounds, bounds, col='red', lwd=2)\n",
    "text(bounds[1]+0.15*diff(bounds), bounds[1]+0.95*diff(bounds), paste('r = ',round(corr_s12[T],3), sep=''))\n",
    "title(paste('T = ',T_test[T]))\n",
    "plot(sens1[[T]], sens3[[T]], xlim=bounds, ylim=bounds, xlab='X1', ylab='X3')\n",
    "lines(bounds, c(0,0), col='red', lwd=2)\n",
    "text(bounds[1]+0.15*diff(bounds), bounds[1]+0.95*diff(bounds), paste('r = ',round(corr_s13[T],3), sep=''))\n",
    "\n",
    "T <- 30; T <- which(T_test==T)\n",
    "plot(sens1[[T]], sens2[[T]], xlim=bounds, ylim=bounds, xlab='X1', ylab='X2')\n",
    "lines(bounds, bounds, col='red', lwd=2)\n",
    "text(bounds[1]+0.15*diff(bounds), bounds[1]+0.95*diff(bounds), paste('r = ',round(corr_s12[T],3), sep=''))\n",
    "title(paste('T = ',T_test[T]))\n",
    "plot(sens1[[T]], sens3[[T]], xlim=bounds, ylim=bounds, xlab='X1', ylab='X3')\n",
    "lines(bounds, c(0,0), col='red', lwd=2)\n",
    "text(bounds[1]+0.15*diff(bounds), bounds[1]+0.95*diff(bounds), paste('r = ',round(corr_s13[T],3), sep=''))"
   ]
  },
  {
   "cell_type": "code",
   "execution_count": 56,
   "metadata": {},
   "outputs": [
    {
     "data": {
      "text/html": [
       "<table>\n",
       "<thead><tr><th scope=col>T</th><th scope=col>r12</th><th scope=col>r13</th></tr></thead>\n",
       "<tbody>\n",
       "\t<tr><td> 2           </td><td>0.3378205    </td><td> 0.0519778676</td></tr>\n",
       "\t<tr><td> 5           </td><td>0.5981592    </td><td>-0.0020862559</td></tr>\n",
       "\t<tr><td>10           </td><td>0.7147125    </td><td>-0.0017227681</td></tr>\n",
       "\t<tr><td>15           </td><td>0.8722230    </td><td> 0.0004203476</td></tr>\n",
       "\t<tr><td>20           </td><td>0.9734583    </td><td> 0.0025164902</td></tr>\n",
       "\t<tr><td>25           </td><td>0.9370186    </td><td> 0.0141434442</td></tr>\n",
       "\t<tr><td>30           </td><td>0.9017960    </td><td>-0.0077131700</td></tr>\n",
       "\t<tr><td>35           </td><td>0.9289575    </td><td>-0.0106352645</td></tr>\n",
       "\t<tr><td>40           </td><td>0.9332434    </td><td>-0.0152332460</td></tr>\n",
       "\t<tr><td>45           </td><td>0.9401995    </td><td>-0.0132755461</td></tr>\n",
       "\t<tr><td>50           </td><td>0.9458993    </td><td> 0.0094291398</td></tr>\n",
       "\t<tr><td>55           </td><td>0.9797405    </td><td>-0.0013176657</td></tr>\n",
       "</tbody>\n",
       "</table>\n"
      ],
      "text/latex": [
       "\\begin{tabular}{lll}\n",
       " T & r12 & r13\\\\\n",
       "\\hline\n",
       "\t  2            & 0.3378205     &  0.0519778676\\\\\n",
       "\t  5            & 0.5981592     & -0.0020862559\\\\\n",
       "\t 10            & 0.7147125     & -0.0017227681\\\\\n",
       "\t 15            & 0.8722230     &  0.0004203476\\\\\n",
       "\t 20            & 0.9734583     &  0.0025164902\\\\\n",
       "\t 25            & 0.9370186     &  0.0141434442\\\\\n",
       "\t 30            & 0.9017960     & -0.0077131700\\\\\n",
       "\t 35            & 0.9289575     & -0.0106352645\\\\\n",
       "\t 40            & 0.9332434     & -0.0152332460\\\\\n",
       "\t 45            & 0.9401995     & -0.0132755461\\\\\n",
       "\t 50            & 0.9458993     &  0.0094291398\\\\\n",
       "\t 55            & 0.9797405     & -0.0013176657\\\\\n",
       "\\end{tabular}\n"
      ],
      "text/markdown": [
       "\n",
       "T | r12 | r13 | \n",
       "|---|---|---|---|---|---|---|---|---|---|---|---|\n",
       "|  2            | 0.3378205     |  0.0519778676 | \n",
       "|  5            | 0.5981592     | -0.0020862559 | \n",
       "| 10            | 0.7147125     | -0.0017227681 | \n",
       "| 15            | 0.8722230     |  0.0004203476 | \n",
       "| 20            | 0.9734583     |  0.0025164902 | \n",
       "| 25            | 0.9370186     |  0.0141434442 | \n",
       "| 30            | 0.9017960     | -0.0077131700 | \n",
       "| 35            | 0.9289575     | -0.0106352645 | \n",
       "| 40            | 0.9332434     | -0.0152332460 | \n",
       "| 45            | 0.9401995     | -0.0132755461 | \n",
       "| 50            | 0.9458993     |  0.0094291398 | \n",
       "| 55            | 0.9797405     | -0.0013176657 | \n",
       "\n",
       "\n"
      ],
      "text/plain": [
       "      T  r12       r13          \n",
       " [1,]  2 0.3378205  0.0519778676\n",
       " [2,]  5 0.5981592 -0.0020862559\n",
       " [3,] 10 0.7147125 -0.0017227681\n",
       " [4,] 15 0.8722230  0.0004203476\n",
       " [5,] 20 0.9734583  0.0025164902\n",
       " [6,] 25 0.9370186  0.0141434442\n",
       " [7,] 30 0.9017960 -0.0077131700\n",
       " [8,] 35 0.9289575 -0.0106352645\n",
       " [9,] 40 0.9332434 -0.0152332460\n",
       "[10,] 45 0.9401995 -0.0132755461\n",
       "[11,] 50 0.9458993  0.0094291398\n",
       "[12,] 55 0.9797405 -0.0013176657"
      ]
     },
     "metadata": {},
     "output_type": "display_data"
    }
   ],
   "source": [
    "corrs <- matrix(nrow=nT, ncol=3)\n",
    "colnames(corrs) <- c('T','r12','r13')\n",
    "for (t in 1:nT) {\n",
    "    corrs[t,] <- c(T_test[t], corr_s12[[t]], corr_s13[[t]])\n",
    "}\n",
    "\n",
    "corrs"
   ]
  },
  {
   "cell_type": "markdown",
   "metadata": {},
   "source": [
    "---\n",
    "## Running 100 iterations and taking the median"
   ]
  },
  {
   "cell_type": "code",
   "execution_count": 11,
   "metadata": {},
   "outputs": [],
   "source": [
    "load('../output/sobol_corr.RData')\n",
    "\n",
    "corr_s12_avg <- apply(corr_s12, 2, median)\n",
    "corr_s13_avg <- apply(corr_s13, 2, median)\n",
    "\n",
    "n_iter <- nrow(corr_s12)"
   ]
  },
  {
   "cell_type": "markdown",
   "metadata": {},
   "source": [
    "Plot of all 100 iterations of this experiment.\n",
    "* At left: correlation between ensembles $X_1$ and $X_2$, which should become close to 1 as we add in variations in more significant parameters\n",
    "* At right: correlation between ensembles $X_1$ and $X_3$, which should become close to 0 as we remove more significant parameters"
   ]
  },
  {
   "cell_type": "code",
   "execution_count": 12,
   "metadata": {},
   "outputs": [
    {
     "data": {
      "image/png": "[encoded data removed]",
      "text/plain": [
       "Plot with title \"X1, X3\""
      ]
     },
     "metadata": {},
     "output_type": "display_data"
    }
   ],
   "source": [
    "options(repr.plot.width=7, repr.plot.height=4)\n",
    "par(mfrow=c(1,2))\n",
    "plot(corr_s12[1,], xlab='# parameters', ylab='Correlation', main='X1, X2'); for (i in 2:n_iter) {points(corr_s12[i,])}\n",
    "plot(corr_s13[1,], xlab='# parameters', ylab='Correlation', main='X1, X3'); for (i in 2:n_iter) {points(corr_s13[i,])}"
   ]
  },
  {
   "cell_type": "markdown",
   "metadata": {},
   "source": [
    "Find out where $\\texttt{corr}(X_1, X_3)$ becomes less than 0.05, and where $\\texttt{corr}(X_1,X_2)$ becomes greater than 0.9"
   ]
  },
  {
   "cell_type": "code",
   "execution_count": 104,
   "metadata": {},
   "outputs": [
    {
     "data": {
      "text/html": [
       "<ol class=list-inline>\n",
       "\t<li>4</li>\n",
       "\t<li>22</li>\n",
       "\t<li>23</li>\n",
       "\t<li>24</li>\n",
       "\t<li>25</li>\n",
       "\t<li>26</li>\n",
       "\t<li>27</li>\n",
       "\t<li>28</li>\n",
       "\t<li>29</li>\n",
       "\t<li>30</li>\n",
       "\t<li>31</li>\n",
       "\t<li>32</li>\n",
       "\t<li>33</li>\n",
       "\t<li>34</li>\n",
       "\t<li>35</li>\n",
       "\t<li>36</li>\n",
       "\t<li>37</li>\n",
       "\t<li>38</li>\n",
       "\t<li>39</li>\n",
       "\t<li>40</li>\n",
       "\t<li>41</li>\n",
       "\t<li>42</li>\n",
       "\t<li>43</li>\n",
       "\t<li>44</li>\n",
       "\t<li>45</li>\n",
       "\t<li>46</li>\n",
       "\t<li>47</li>\n",
       "\t<li>48</li>\n",
       "\t<li>49</li>\n",
       "\t<li>50</li>\n",
       "\t<li>51</li>\n",
       "\t<li>52</li>\n",
       "\t<li>53</li>\n",
       "\t<li>54</li>\n",
       "</ol>\n"
      ],
      "text/latex": [
       "\\begin{enumerate*}\n",
       "\\item 4\n",
       "\\item 22\n",
       "\\item 23\n",
       "\\item 24\n",
       "\\item 25\n",
       "\\item 26\n",
       "\\item 27\n",
       "\\item 28\n",
       "\\item 29\n",
       "\\item 30\n",
       "\\item 31\n",
       "\\item 32\n",
       "\\item 33\n",
       "\\item 34\n",
       "\\item 35\n",
       "\\item 36\n",
       "\\item 37\n",
       "\\item 38\n",
       "\\item 39\n",
       "\\item 40\n",
       "\\item 41\n",
       "\\item 42\n",
       "\\item 43\n",
       "\\item 44\n",
       "\\item 45\n",
       "\\item 46\n",
       "\\item 47\n",
       "\\item 48\n",
       "\\item 49\n",
       "\\item 50\n",
       "\\item 51\n",
       "\\item 52\n",
       "\\item 53\n",
       "\\item 54\n",
       "\\end{enumerate*}\n"
      ],
      "text/markdown": [
       "1. 4\n",
       "2. 22\n",
       "3. 23\n",
       "4. 24\n",
       "5. 25\n",
       "6. 26\n",
       "7. 27\n",
       "8. 28\n",
       "9. 29\n",
       "10. 30\n",
       "11. 31\n",
       "12. 32\n",
       "13. 33\n",
       "14. 34\n",
       "15. 35\n",
       "16. 36\n",
       "17. 37\n",
       "18. 38\n",
       "19. 39\n",
       "20. 40\n",
       "21. 41\n",
       "22. 42\n",
       "23. 43\n",
       "24. 44\n",
       "25. 45\n",
       "26. 46\n",
       "27. 47\n",
       "28. 48\n",
       "29. 49\n",
       "30. 50\n",
       "31. 51\n",
       "32. 52\n",
       "33. 53\n",
       "34. 54\n",
       "\n",
       "\n"
      ],
      "text/plain": [
       " [1]  4 22 23 24 25 26 27 28 29 30 31 32 33 34 35 36 37 38 39 40 41 42 43 44 45\n",
       "[26] 46 47 48 49 50 51 52 53 54"
      ]
     },
     "metadata": {},
     "output_type": "display_data"
    }
   ],
   "source": [
    "t13 <- which(corr_s13_avg < 0.05)\n",
    "t13"
   ]
  },
  {
   "cell_type": "code",
   "execution_count": 105,
   "metadata": {},
   "outputs": [
    {
     "data": {
      "text/html": [
       "<ol class=list-inline>\n",
       "\t<li>36</li>\n",
       "\t<li>37</li>\n",
       "\t<li>38</li>\n",
       "\t<li>39</li>\n",
       "\t<li>40</li>\n",
       "\t<li>41</li>\n",
       "\t<li>42</li>\n",
       "\t<li>45</li>\n",
       "\t<li>46</li>\n",
       "\t<li>47</li>\n",
       "\t<li>48</li>\n",
       "\t<li>49</li>\n",
       "\t<li>50</li>\n",
       "\t<li>51</li>\n",
       "\t<li>52</li>\n",
       "\t<li>53</li>\n",
       "\t<li>54</li>\n",
       "</ol>\n"
      ],
      "text/latex": [
       "\\begin{enumerate*}\n",
       "\\item 36\n",
       "\\item 37\n",
       "\\item 38\n",
       "\\item 39\n",
       "\\item 40\n",
       "\\item 41\n",
       "\\item 42\n",
       "\\item 45\n",
       "\\item 46\n",
       "\\item 47\n",
       "\\item 48\n",
       "\\item 49\n",
       "\\item 50\n",
       "\\item 51\n",
       "\\item 52\n",
       "\\item 53\n",
       "\\item 54\n",
       "\\end{enumerate*}\n"
      ],
      "text/markdown": [
       "1. 36\n",
       "2. 37\n",
       "3. 38\n",
       "4. 39\n",
       "5. 40\n",
       "6. 41\n",
       "7. 42\n",
       "8. 45\n",
       "9. 46\n",
       "10. 47\n",
       "11. 48\n",
       "12. 49\n",
       "13. 50\n",
       "14. 51\n",
       "15. 52\n",
       "16. 53\n",
       "17. 54\n",
       "\n",
       "\n"
      ],
      "text/plain": [
       " [1] 36 37 38 39 40 41 42 45 46 47 48 49 50 51 52 53 54"
      ]
     },
     "metadata": {},
     "output_type": "display_data"
    }
   ],
   "source": [
    "t12 <- which(corr_s12_avg > 0.89)\n",
    "t12"
   ]
  },
  {
   "cell_type": "markdown",
   "metadata": {},
   "source": [
    "$\\texttt{corr}(X_1, X_2)$ is quite variable, so look at just the upper bounds because those are well-defined."
   ]
  },
  {
   "cell_type": "code",
   "execution_count": 106,
   "metadata": {},
   "outputs": [
    {
     "data": {
      "text/html": [
       "<ol class=list-inline>\n",
       "\t<li>25</li>\n",
       "\t<li>26</li>\n",
       "\t<li>27</li>\n",
       "\t<li>28</li>\n",
       "\t<li>29</li>\n",
       "\t<li>30</li>\n",
       "\t<li>31</li>\n",
       "\t<li>32</li>\n",
       "\t<li>33</li>\n",
       "\t<li>34</li>\n",
       "\t<li>35</li>\n",
       "\t<li>36</li>\n",
       "\t<li>37</li>\n",
       "\t<li>38</li>\n",
       "\t<li>39</li>\n",
       "\t<li>40</li>\n",
       "\t<li>41</li>\n",
       "\t<li>42</li>\n",
       "\t<li>43</li>\n",
       "\t<li>44</li>\n",
       "\t<li>45</li>\n",
       "\t<li>46</li>\n",
       "\t<li>47</li>\n",
       "\t<li>48</li>\n",
       "\t<li>49</li>\n",
       "\t<li>50</li>\n",
       "\t<li>51</li>\n",
       "\t<li>52</li>\n",
       "\t<li>53</li>\n",
       "\t<li>54</li>\n",
       "</ol>\n"
      ],
      "text/latex": [
       "\\begin{enumerate*}\n",
       "\\item 25\n",
       "\\item 26\n",
       "\\item 27\n",
       "\\item 28\n",
       "\\item 29\n",
       "\\item 30\n",
       "\\item 31\n",
       "\\item 32\n",
       "\\item 33\n",
       "\\item 34\n",
       "\\item 35\n",
       "\\item 36\n",
       "\\item 37\n",
       "\\item 38\n",
       "\\item 39\n",
       "\\item 40\n",
       "\\item 41\n",
       "\\item 42\n",
       "\\item 43\n",
       "\\item 44\n",
       "\\item 45\n",
       "\\item 46\n",
       "\\item 47\n",
       "\\item 48\n",
       "\\item 49\n",
       "\\item 50\n",
       "\\item 51\n",
       "\\item 52\n",
       "\\item 53\n",
       "\\item 54\n",
       "\\end{enumerate*}\n"
      ],
      "text/markdown": [
       "1. 25\n",
       "2. 26\n",
       "3. 27\n",
       "4. 28\n",
       "5. 29\n",
       "6. 30\n",
       "7. 31\n",
       "8. 32\n",
       "9. 33\n",
       "10. 34\n",
       "11. 35\n",
       "12. 36\n",
       "13. 37\n",
       "14. 38\n",
       "15. 39\n",
       "16. 40\n",
       "17. 41\n",
       "18. 42\n",
       "19. 43\n",
       "20. 44\n",
       "21. 45\n",
       "22. 46\n",
       "23. 47\n",
       "24. 48\n",
       "25. 49\n",
       "26. 50\n",
       "27. 51\n",
       "28. 52\n",
       "29. 53\n",
       "30. 54\n",
       "\n",
       "\n"
      ],
      "text/plain": [
       " [1] 25 26 27 28 29 30 31 32 33 34 35 36 37 38 39 40 41 42 43 44 45 46 47 48 49\n",
       "[26] 50 51 52 53 54"
      ]
     },
     "metadata": {},
     "output_type": "display_data"
    }
   ],
   "source": [
    "corr_s12_max <- apply(corr_s12, 2, max)\n",
    "which(corr_s12_max > 0.89)"
   ]
  },
  {
   "cell_type": "markdown",
   "metadata": {},
   "source": [
    "In case anyone is interested to see which parameters added have most impact.\n",
    "\n",
    "* `deltaT2X` is the very first parameter, so it is in every set.\n",
    "* Then when `T_test=2`, we have added `LIFE` for 2 parameters total.\n",
    "* Then when `T_test=3`, we add `kwcy`, so 3 parameters total.\n",
    "* And so on..."
   ]
  },
  {
   "cell_type": "code",
   "execution_count": 107,
   "metadata": {},
   "outputs": [
    {
     "data": {
      "text/html": [
       "<table>\n",
       "<thead><tr><th scope=col></th><th scope=col>T_test</th><th scope=col>corr_s12_max</th><th scope=col>corr_s13_avg</th></tr></thead>\n",
       "<tbody>\n",
       "\t<tr><td>LIFE                 </td><td>2                    </td><td>0.0510129489200733   </td><td>0.162127503200403    </td></tr>\n",
       "\t<tr><td>kwcy                 </td><td>3                    </td><td>0.109378189022369    </td><td>0.353931110997372    </td></tr>\n",
       "\t<tr><td>Ws                   </td><td>4                    </td><td>0.113835669466369    </td><td>0.148467218407012    </td></tr>\n",
       "\t<tr><td>Ca_570               </td><td>5                    </td><td>0.111809999853338    </td><td>0.0225236737939404   </td></tr>\n",
       "\t<tr><td>GYM                  </td><td>6                    </td><td>0.142055833859285    </td><td>0.391215612068326    </td></tr>\n",
       "\t<tr><td>exp_fnBb             </td><td>7                    </td><td>0.179974063763867    </td><td>0.332161464400726    </td></tr>\n",
       "\t<tr><td>Rcy_570              </td><td>8                    </td><td>0.168260735206701    </td><td>0.347992295715283    </td></tr>\n",
       "\t<tr><td>FERT                 </td><td>9                    </td><td>0.17096433192044     </td><td>0.348597256071759    </td></tr>\n",
       "\t<tr><td>Ssa                  </td><td>10                   </td><td>0.168118344306801    </td><td>0.344578327078329    </td></tr>\n",
       "\t<tr><td>Fwsa_0               </td><td>11                   </td><td>0.171460422774194    </td><td>0.349066195039232    </td></tr>\n",
       "\t<tr><td>Rca_570              </td><td>12                   </td><td>0.182406370240167    </td><td>0.338980495917162    </td></tr>\n",
       "\t<tr><td>VNV                  </td><td>13                   </td><td>0.183665841808028    </td><td>0.323995706077348    </td></tr>\n",
       "\t<tr><td>Fmc_0                </td><td>14                   </td><td>0.171846798198969    </td><td>0.345374760520522    </td></tr>\n",
       "\t<tr><td>CT                   </td><td>15                   </td><td>0.17008897864719     </td><td>0.347402146311727    </td></tr>\n",
       "\t<tr><td>Ga                   </td><td>16                   </td><td>0.169548577702863    </td><td>0.348586425518583    </td></tr>\n",
       "\t<tr><td>Fwsi_0               </td><td>17                   </td><td>0.173182365629585    </td><td>0.347273786207839    </td></tr>\n",
       "\t<tr><td>ACT                  </td><td>18                   </td><td>0.172620805121672    </td><td>0.346538284345297    </td></tr>\n",
       "\t<tr><td>Xvolc_0              </td><td>19                   </td><td>0.171511168572531    </td><td>0.342811420859993    </td></tr>\n",
       "\t<tr><td>kwgy                 </td><td>20                   </td><td>0.176696106356712    </td><td>0.307871796516095    </td></tr>\n",
       "\t<tr><td>Fob                  </td><td>21                   </td><td>0.365635945220922    </td><td>0.167101713748216    </td></tr>\n",
       "\t<tr><td>Rv_570               </td><td>22                   </td><td>0.463582318381908    </td><td>0.0564090857469406   </td></tr>\n",
       "\t<tr><td>Cy_570               </td><td>23                   </td><td>0.565571360508459    </td><td>0.0030898363820973   </td></tr>\n",
       "\t<tr><td>Rg_570               </td><td>24                   </td><td>0.56832993135051     </td><td>0.00784345526854762  </td></tr>\n",
       "\t<tr><td>exp_fD               </td><td>25                   </td><td>0.569221517862623    </td><td>0.00585258714421439  </td></tr>\n",
       "\t<tr><td>CAPd13C_0            </td><td>26                   </td><td>0.898335553683095    </td><td>-0.019482527969711   </td></tr>\n",
       "\t<tr><td>ACTcarb              </td><td>27                   </td><td>0.899450420286357    </td><td>-0.0200724807621056  </td></tr>\n",
       "\t<tr><td>dlcy_570             </td><td>28                   </td><td>0.897957326362917    </td><td>-0.0204796874442438  </td></tr>\n",
       "\t<tr><td>Gy_570               </td><td>29                   </td><td>0.898554450052727    </td><td>-0.0218084438254855  </td></tr>\n",
       "\t<tr><td>dlst                 </td><td>30                   </td><td>0.896962318327418    </td><td>-0.0199905276856309  </td></tr>\n",
       "\t<tr><td>dlct                 </td><td>31                   </td><td>0.898793266696747    </td><td>-0.0223706123560669  </td></tr>\n",
       "\t<tr><td>Ssy_570              </td><td>32                   </td><td>0.897117564807936    </td><td>-0.0205885368815884  </td></tr>\n",
       "\t<tr><td>CAPd34S_0            </td><td>33                   </td><td>0.906604851213097    </td><td>-0.0165551973337962  </td></tr>\n",
       "\t<tr><td>GLAC                 </td><td>34                   </td><td>0.908526297750594    </td><td>-0.0163259654293043  </td></tr>\n",
       "\t<tr><td>Spa                  </td><td>35                   </td><td>0.90943903233018     </td><td>-0.014488178004389   </td></tr>\n",
       "\t<tr><td>ST                   </td><td>36                   </td><td>0.908104399002414    </td><td>-0.0157607378496454  </td></tr>\n",
       "\t<tr><td>oxygen_570           </td><td>37                   </td><td>0.912666206573461    </td><td>-0.00946109693876332 </td></tr>\n",
       "\t<tr><td>n                    </td><td>38                   </td><td>0.911550306772249    </td><td>-0.00934356093301925 </td></tr>\n",
       "\t<tr><td>Fwca_0               </td><td>39                   </td><td>0.911854796687717    </td><td>-0.00919749732755308 </td></tr>\n",
       "\t<tr><td>NV                   </td><td>40                   </td><td>0.911666052961303    </td><td>-0.00979271379066356 </td></tr>\n",
       "\t<tr><td>Fmp_0                </td><td>41                   </td><td>0.911997643836304    </td><td>-0.00900297550564883 </td></tr>\n",
       "\t<tr><td>Fmg_0                </td><td>42                   </td><td>0.91318839171969     </td><td>-0.010947610322451   </td></tr>\n",
       "\t<tr><td>exp_NV               </td><td>43                   </td><td>0.916726281928099    </td><td>-0.0034603683923848  </td></tr>\n",
       "\t<tr><td>dlga_570             </td><td>44                   </td><td>0.916629043962448    </td><td>-0.00980768028273449 </td></tr>\n",
       "\t<tr><td>kwsy                 </td><td>45                   </td><td>0.915975944913553    </td><td>-0.0101805896542484  </td></tr>\n",
       "\t<tr><td>Fwpa_0               </td><td>46                   </td><td>0.92957288938877     </td><td>0.000905398835079674 </td></tr>\n",
       "\t<tr><td>J                    </td><td>47                   </td><td>0.99936172768957     </td><td>0.00102937632969981  </td></tr>\n",
       "\t<tr><td>Spy_570              </td><td>48                   </td><td>0.999249019184479    </td><td>0.000284936643957662 </td></tr>\n",
       "\t<tr><td>dlpa_570             </td><td>49                   </td><td>0.9994566877076      </td><td>0.000135542116083933 </td></tr>\n",
       "\t<tr><td>Fms_0                </td><td>50                   </td><td>0.99949230902647     </td><td>0.000482570127744128 </td></tr>\n",
       "\t<tr><td>dlgy_570             </td><td>51                   </td><td>0.999592392618278    </td><td>0.000866237709372081 </td></tr>\n",
       "\t<tr><td>kwpy                 </td><td>52                   </td><td>0.999712888915941    </td><td>0.00223063434692949  </td></tr>\n",
       "\t<tr><td>Fwga_0               </td><td>53                   </td><td>0.999965905089734    </td><td>0.000679240025027174 </td></tr>\n",
       "\t<tr><td>dlsy_570             </td><td>54                   </td><td>0.99998763175498     </td><td>0.00276311770786868  </td></tr>\n",
       "\t<tr><td>dlpy_570             </td><td>55                   </td><td>0.999999993485344    </td><td>-0.000667194371935791</td></tr>\n",
       "</tbody>\n",
       "</table>\n"
      ],
      "text/latex": [
       "\\begin{tabular}{llll}\n",
       "  & T\\_test & corr\\_s12\\_max & corr\\_s13\\_avg\\\\\n",
       "\\hline\n",
       "\t LIFE                  & 2                     & 0.0510129489200733    & 0.162127503200403    \\\\\n",
       "\t kwcy                  & 3                     & 0.109378189022369     & 0.353931110997372    \\\\\n",
       "\t Ws                    & 4                     & 0.113835669466369     & 0.148467218407012    \\\\\n",
       "\t Ca\\_570              & 5                     & 0.111809999853338     & 0.0225236737939404   \\\\\n",
       "\t GYM                   & 6                     & 0.142055833859285     & 0.391215612068326    \\\\\n",
       "\t exp\\_fnBb            & 7                     & 0.179974063763867     & 0.332161464400726    \\\\\n",
       "\t Rcy\\_570             & 8                     & 0.168260735206701     & 0.347992295715283    \\\\\n",
       "\t FERT                  & 9                     & 0.17096433192044      & 0.348597256071759    \\\\\n",
       "\t Ssa                   & 10                    & 0.168118344306801     & 0.344578327078329    \\\\\n",
       "\t Fwsa\\_0              & 11                    & 0.171460422774194     & 0.349066195039232    \\\\\n",
       "\t Rca\\_570             & 12                    & 0.182406370240167     & 0.338980495917162    \\\\\n",
       "\t VNV                   & 13                    & 0.183665841808028     & 0.323995706077348    \\\\\n",
       "\t Fmc\\_0               & 14                    & 0.171846798198969     & 0.345374760520522    \\\\\n",
       "\t CT                    & 15                    & 0.17008897864719      & 0.347402146311727    \\\\\n",
       "\t Ga                    & 16                    & 0.169548577702863     & 0.348586425518583    \\\\\n",
       "\t Fwsi\\_0              & 17                    & 0.173182365629585     & 0.347273786207839    \\\\\n",
       "\t ACT                   & 18                    & 0.172620805121672     & 0.346538284345297    \\\\\n",
       "\t Xvolc\\_0             & 19                    & 0.171511168572531     & 0.342811420859993    \\\\\n",
       "\t kwgy                  & 20                    & 0.176696106356712     & 0.307871796516095    \\\\\n",
       "\t Fob                   & 21                    & 0.365635945220922     & 0.167101713748216    \\\\\n",
       "\t Rv\\_570              & 22                    & 0.463582318381908     & 0.0564090857469406   \\\\\n",
       "\t Cy\\_570              & 23                    & 0.565571360508459     & 0.0030898363820973   \\\\\n",
       "\t Rg\\_570              & 24                    & 0.56832993135051      & 0.00784345526854762  \\\\\n",
       "\t exp\\_fD              & 25                    & 0.569221517862623     & 0.00585258714421439  \\\\\n",
       "\t CAPd13C\\_0           & 26                    & 0.898335553683095     & -0.019482527969711   \\\\\n",
       "\t ACTcarb               & 27                    & 0.899450420286357     & -0.0200724807621056  \\\\\n",
       "\t dlcy\\_570            & 28                    & 0.897957326362917     & -0.0204796874442438  \\\\\n",
       "\t Gy\\_570              & 29                    & 0.898554450052727     & -0.0218084438254855  \\\\\n",
       "\t dlst                  & 30                    & 0.896962318327418     & -0.0199905276856309  \\\\\n",
       "\t dlct                  & 31                    & 0.898793266696747     & -0.0223706123560669  \\\\\n",
       "\t Ssy\\_570             & 32                    & 0.897117564807936     & -0.0205885368815884  \\\\\n",
       "\t CAPd34S\\_0           & 33                    & 0.906604851213097     & -0.0165551973337962  \\\\\n",
       "\t GLAC                  & 34                    & 0.908526297750594     & -0.0163259654293043  \\\\\n",
       "\t Spa                   & 35                    & 0.90943903233018      & -0.014488178004389   \\\\\n",
       "\t ST                    & 36                    & 0.908104399002414     & -0.0157607378496454  \\\\\n",
       "\t oxygen\\_570          & 37                    & 0.912666206573461     & -0.00946109693876332 \\\\\n",
       "\t n                     & 38                    & 0.911550306772249     & -0.00934356093301925 \\\\\n",
       "\t Fwca\\_0              & 39                    & 0.911854796687717     & -0.00919749732755308 \\\\\n",
       "\t NV                    & 40                    & 0.911666052961303     & -0.00979271379066356 \\\\\n",
       "\t Fmp\\_0               & 41                    & 0.911997643836304     & -0.00900297550564883 \\\\\n",
       "\t Fmg\\_0               & 42                    & 0.91318839171969      & -0.010947610322451   \\\\\n",
       "\t exp\\_NV              & 43                    & 0.916726281928099     & -0.0034603683923848  \\\\\n",
       "\t dlga\\_570            & 44                    & 0.916629043962448     & -0.00980768028273449 \\\\\n",
       "\t kwsy                  & 45                    & 0.915975944913553     & -0.0101805896542484  \\\\\n",
       "\t Fwpa\\_0              & 46                    & 0.92957288938877      & 0.000905398835079674 \\\\\n",
       "\t J                     & 47                    & 0.99936172768957      & 0.00102937632969981  \\\\\n",
       "\t Spy\\_570             & 48                    & 0.999249019184479     & 0.000284936643957662 \\\\\n",
       "\t dlpa\\_570            & 49                    & 0.9994566877076       & 0.000135542116083933 \\\\\n",
       "\t Fms\\_0               & 50                    & 0.99949230902647      & 0.000482570127744128 \\\\\n",
       "\t dlgy\\_570            & 51                    & 0.999592392618278     & 0.000866237709372081 \\\\\n",
       "\t kwpy                  & 52                    & 0.999712888915941     & 0.00223063434692949  \\\\\n",
       "\t Fwga\\_0              & 53                    & 0.999965905089734     & 0.000679240025027174 \\\\\n",
       "\t dlsy\\_570            & 54                    & 0.99998763175498      & 0.00276311770786868  \\\\\n",
       "\t dlpy\\_570            & 55                    & 0.999999993485344     & -0.000667194371935791\\\\\n",
       "\\end{tabular}\n"
      ],
      "text/markdown": [
       "\n",
       " | T_test | corr_s12_max | corr_s13_avg | \n",
       "|---|---|---|---|---|---|---|---|---|---|---|---|---|---|---|---|---|---|---|---|---|---|---|---|---|---|---|---|---|---|---|---|---|---|---|---|---|---|---|---|---|---|---|---|---|---|---|---|---|---|---|---|---|---|\n",
       "| LIFE                  | 2                     | 0.0510129489200733    | 0.162127503200403     | \n",
       "| kwcy                  | 3                     | 0.109378189022369     | 0.353931110997372     | \n",
       "| Ws                    | 4                     | 0.113835669466369     | 0.148467218407012     | \n",
       "| Ca_570                | 5                     | 0.111809999853338     | 0.0225236737939404    | \n",
       "| GYM                   | 6                     | 0.142055833859285     | 0.391215612068326     | \n",
       "| exp_fnBb              | 7                     | 0.179974063763867     | 0.332161464400726     | \n",
       "| Rcy_570               | 8                     | 0.168260735206701     | 0.347992295715283     | \n",
       "| FERT                  | 9                     | 0.17096433192044      | 0.348597256071759     | \n",
       "| Ssa                   | 10                    | 0.168118344306801     | 0.344578327078329     | \n",
       "| Fwsa_0                | 11                    | 0.171460422774194     | 0.349066195039232     | \n",
       "| Rca_570               | 12                    | 0.182406370240167     | 0.338980495917162     | \n",
       "| VNV                   | 13                    | 0.183665841808028     | 0.323995706077348     | \n",
       "| Fmc_0                 | 14                    | 0.171846798198969     | 0.345374760520522     | \n",
       "| CT                    | 15                    | 0.17008897864719      | 0.347402146311727     | \n",
       "| Ga                    | 16                    | 0.169548577702863     | 0.348586425518583     | \n",
       "| Fwsi_0                | 17                    | 0.173182365629585     | 0.347273786207839     | \n",
       "| ACT                   | 18                    | 0.172620805121672     | 0.346538284345297     | \n",
       "| Xvolc_0               | 19                    | 0.171511168572531     | 0.342811420859993     | \n",
       "| kwgy                  | 20                    | 0.176696106356712     | 0.307871796516095     | \n",
       "| Fob                   | 21                    | 0.365635945220922     | 0.167101713748216     | \n",
       "| Rv_570                | 22                    | 0.463582318381908     | 0.0564090857469406    | \n",
       "| Cy_570                | 23                    | 0.565571360508459     | 0.0030898363820973    | \n",
       "| Rg_570                | 24                    | 0.56832993135051      | 0.00784345526854762   | \n",
       "| exp_fD                | 25                    | 0.569221517862623     | 0.00585258714421439   | \n",
       "| CAPd13C_0             | 26                    | 0.898335553683095     | -0.019482527969711    | \n",
       "| ACTcarb               | 27                    | 0.899450420286357     | -0.0200724807621056   | \n",
       "| dlcy_570              | 28                    | 0.897957326362917     | -0.0204796874442438   | \n",
       "| Gy_570                | 29                    | 0.898554450052727     | -0.0218084438254855   | \n",
       "| dlst                  | 30                    | 0.896962318327418     | -0.0199905276856309   | \n",
       "| dlct                  | 31                    | 0.898793266696747     | -0.0223706123560669   | \n",
       "| Ssy_570               | 32                    | 0.897117564807936     | -0.0205885368815884   | \n",
       "| CAPd34S_0             | 33                    | 0.906604851213097     | -0.0165551973337962   | \n",
       "| GLAC                  | 34                    | 0.908526297750594     | -0.0163259654293043   | \n",
       "| Spa                   | 35                    | 0.90943903233018      | -0.014488178004389    | \n",
       "| ST                    | 36                    | 0.908104399002414     | -0.0157607378496454   | \n",
       "| oxygen_570            | 37                    | 0.912666206573461     | -0.00946109693876332  | \n",
       "| n                     | 38                    | 0.911550306772249     | -0.00934356093301925  | \n",
       "| Fwca_0                | 39                    | 0.911854796687717     | -0.00919749732755308  | \n",
       "| NV                    | 40                    | 0.911666052961303     | -0.00979271379066356  | \n",
       "| Fmp_0                 | 41                    | 0.911997643836304     | -0.00900297550564883  | \n",
       "| Fmg_0                 | 42                    | 0.91318839171969      | -0.010947610322451    | \n",
       "| exp_NV                | 43                    | 0.916726281928099     | -0.0034603683923848   | \n",
       "| dlga_570              | 44                    | 0.916629043962448     | -0.00980768028273449  | \n",
       "| kwsy                  | 45                    | 0.915975944913553     | -0.0101805896542484   | \n",
       "| Fwpa_0                | 46                    | 0.92957288938877      | 0.000905398835079674  | \n",
       "| J                     | 47                    | 0.99936172768957      | 0.00102937632969981   | \n",
       "| Spy_570               | 48                    | 0.999249019184479     | 0.000284936643957662  | \n",
       "| dlpa_570              | 49                    | 0.9994566877076       | 0.000135542116083933  | \n",
       "| Fms_0                 | 50                    | 0.99949230902647      | 0.000482570127744128  | \n",
       "| dlgy_570              | 51                    | 0.999592392618278     | 0.000866237709372081  | \n",
       "| kwpy                  | 52                    | 0.999712888915941     | 0.00223063434692949   | \n",
       "| Fwga_0                | 53                    | 0.999965905089734     | 0.000679240025027174  | \n",
       "| dlsy_570              | 54                    | 0.99998763175498      | 0.00276311770786868   | \n",
       "| dlpy_570              | 55                    | 0.999999993485344     | -0.000667194371935791 | \n",
       "\n",
       "\n"
      ],
      "text/plain": [
       "                 T_test corr_s12_max       corr_s13_avg         \n",
       " [1,] LIFE       2      0.0510129489200733 0.162127503200403    \n",
       " [2,] kwcy       3      0.109378189022369  0.353931110997372    \n",
       " [3,] Ws         4      0.113835669466369  0.148467218407012    \n",
       " [4,] Ca_570     5      0.111809999853338  0.0225236737939404   \n",
       " [5,] GYM        6      0.142055833859285  0.391215612068326    \n",
       " [6,] exp_fnBb   7      0.179974063763867  0.332161464400726    \n",
       " [7,] Rcy_570    8      0.168260735206701  0.347992295715283    \n",
       " [8,] FERT       9      0.17096433192044   0.348597256071759    \n",
       " [9,] Ssa        10     0.168118344306801  0.344578327078329    \n",
       "[10,] Fwsa_0     11     0.171460422774194  0.349066195039232    \n",
       "[11,] Rca_570    12     0.182406370240167  0.338980495917162    \n",
       "[12,] VNV        13     0.183665841808028  0.323995706077348    \n",
       "[13,] Fmc_0      14     0.171846798198969  0.345374760520522    \n",
       "[14,] CT         15     0.17008897864719   0.347402146311727    \n",
       "[15,] Ga         16     0.169548577702863  0.348586425518583    \n",
       "[16,] Fwsi_0     17     0.173182365629585  0.347273786207839    \n",
       "[17,] ACT        18     0.172620805121672  0.346538284345297    \n",
       "[18,] Xvolc_0    19     0.171511168572531  0.342811420859993    \n",
       "[19,] kwgy       20     0.176696106356712  0.307871796516095    \n",
       "[20,] Fob        21     0.365635945220922  0.167101713748216    \n",
       "[21,] Rv_570     22     0.463582318381908  0.0564090857469406   \n",
       "[22,] Cy_570     23     0.565571360508459  0.0030898363820973   \n",
       "[23,] Rg_570     24     0.56832993135051   0.00784345526854762  \n",
       "[24,] exp_fD     25     0.569221517862623  0.00585258714421439  \n",
       "[25,] CAPd13C_0  26     0.898335553683095  -0.019482527969711   \n",
       "[26,] ACTcarb    27     0.899450420286357  -0.0200724807621056  \n",
       "[27,] dlcy_570   28     0.897957326362917  -0.0204796874442438  \n",
       "[28,] Gy_570     29     0.898554450052727  -0.0218084438254855  \n",
       "[29,] dlst       30     0.896962318327418  -0.0199905276856309  \n",
       "[30,] dlct       31     0.898793266696747  -0.0223706123560669  \n",
       "[31,] Ssy_570    32     0.897117564807936  -0.0205885368815884  \n",
       "[32,] CAPd34S_0  33     0.906604851213097  -0.0165551973337962  \n",
       "[33,] GLAC       34     0.908526297750594  -0.0163259654293043  \n",
       "[34,] Spa        35     0.90943903233018   -0.014488178004389   \n",
       "[35,] ST         36     0.908104399002414  -0.0157607378496454  \n",
       "[36,] oxygen_570 37     0.912666206573461  -0.00946109693876332 \n",
       "[37,] n          38     0.911550306772249  -0.00934356093301925 \n",
       "[38,] Fwca_0     39     0.911854796687717  -0.00919749732755308 \n",
       "[39,] NV         40     0.911666052961303  -0.00979271379066356 \n",
       "[40,] Fmp_0      41     0.911997643836304  -0.00900297550564883 \n",
       "[41,] Fmg_0      42     0.91318839171969   -0.010947610322451   \n",
       "[42,] exp_NV     43     0.916726281928099  -0.0034603683923848  \n",
       "[43,] dlga_570   44     0.916629043962448  -0.00980768028273449 \n",
       "[44,] kwsy       45     0.915975944913553  -0.0101805896542484  \n",
       "[45,] Fwpa_0     46     0.92957288938877   0.000905398835079674 \n",
       "[46,] J          47     0.99936172768957   0.00102937632969981  \n",
       "[47,] Spy_570    48     0.999249019184479  0.000284936643957662 \n",
       "[48,] dlpa_570   49     0.9994566877076    0.000135542116083933 \n",
       "[49,] Fms_0      50     0.99949230902647   0.000482570127744128 \n",
       "[50,] dlgy_570   51     0.999592392618278  0.000866237709372081 \n",
       "[51,] kwpy       52     0.999712888915941  0.00223063434692949  \n",
       "[52,] Fwga_0     53     0.999965905089734  0.000679240025027174 \n",
       "[53,] dlsy_570   54     0.99998763175498   0.00276311770786868  \n",
       "[54,] dlpy_570   55     0.999999993485344  -0.000667194371935791"
      ]
     },
     "metadata": {},
     "output_type": "display_data"
    }
   ],
   "source": [
    "parnames_added <- rev(parnames_calib[order(s.out$T$original)])\n",
    "cbind(parnames_added[2:55], T_test, corr_s12_max, corr_s13_avg)"
   ]
  },
  {
   "cell_type": "markdown",
   "metadata": {},
   "source": [
    "Find the lowest number of parameters to include that satisfies both constraints"
   ]
  },
  {
   "cell_type": "code",
   "execution_count": null,
   "metadata": {
    "collapsed": true
   },
   "outputs": [],
   "source": [
    "for (t in T_test) {\n",
    "    \n",
    "}"
   ]
  }
 ],
 "metadata": {
  "kernelspec": {
   "display_name": "R",
   "language": "R",
   "name": "ir"
  },
  "language_info": {
   "codemirror_mode": "r",
   "file_extension": ".r",
   "mimetype": "text/x-r-source",
   "name": "R",
   "pygments_lexer": "r",
   "version": "3.4.1"
  }
 },
 "nbformat": 4,
 "nbformat_minor": 2
}
